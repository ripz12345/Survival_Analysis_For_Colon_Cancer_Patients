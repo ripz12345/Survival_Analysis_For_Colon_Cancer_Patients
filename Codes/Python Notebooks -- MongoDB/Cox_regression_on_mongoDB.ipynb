{
 "cells": [
  {
   "cell_type": "code",
   "execution_count": 1,
   "id": "8a2ea4a8",
   "metadata": {},
   "outputs": [
    {
     "name": "stdout",
     "output_type": "stream",
     "text": [
      "Requirement already satisfied: pymongo in c:\\users\\ripan\\anaconda3\\lib\\site-packages (4.0.1)\n"
     ]
    }
   ],
   "source": [
    "# import required libraries\n",
    "!pip install pymongo\n",
    "import pandas as pd\n",
    "import json"
   ]
  },
  {
   "cell_type": "code",
   "execution_count": 2,
   "id": "f046fbe7",
   "metadata": {},
   "outputs": [],
   "source": [
    "# import pymongo which creates the connection between python and mongoDB\n",
    "import pymongo"
   ]
  },
  {
   "cell_type": "markdown",
   "id": "82afe334",
   "metadata": {},
   "source": [
    "# 1. Inserting CSV file into the database"
   ]
  },
  {
   "cell_type": "code",
   "execution_count": 3,
   "id": "fff675c5",
   "metadata": {},
   "outputs": [],
   "source": [
    "# creating a client for pymongo\n",
    "client = pymongo.MongoClient(\"mongodb://localhost:27017\")"
   ]
  },
  {
   "cell_type": "code",
   "execution_count": 4,
   "id": "c395837a",
   "metadata": {},
   "outputs": [],
   "source": [
    "# importing our CSV file into a pandas dataframe\n",
    "df = pd.read_csv(\"C:\\data\\db\\colon.csv\")"
   ]
  },
  {
   "cell_type": "code",
   "execution_count": 5,
   "id": "1b251456",
   "metadata": {},
   "outputs": [
    {
     "data": {
      "text/html": [
       "<div>\n",
       "<style scoped>\n",
       "    .dataframe tbody tr th:only-of-type {\n",
       "        vertical-align: middle;\n",
       "    }\n",
       "\n",
       "    .dataframe tbody tr th {\n",
       "        vertical-align: top;\n",
       "    }\n",
       "\n",
       "    .dataframe thead th {\n",
       "        text-align: right;\n",
       "    }\n",
       "</style>\n",
       "<table border=\"1\" class=\"dataframe\">\n",
       "  <thead>\n",
       "    <tr style=\"text-align: right;\">\n",
       "      <th></th>\n",
       "      <th>id</th>\n",
       "      <th>study</th>\n",
       "      <th>rx</th>\n",
       "      <th>sex</th>\n",
       "      <th>age</th>\n",
       "      <th>obstruct</th>\n",
       "      <th>perfor</th>\n",
       "      <th>adhere</th>\n",
       "      <th>nodes</th>\n",
       "      <th>status</th>\n",
       "      <th>differ</th>\n",
       "      <th>extent</th>\n",
       "      <th>surg</th>\n",
       "      <th>node4</th>\n",
       "      <th>time</th>\n",
       "    </tr>\n",
       "  </thead>\n",
       "  <tbody>\n",
       "    <tr>\n",
       "      <th>0</th>\n",
       "      <td>1</td>\n",
       "      <td>1</td>\n",
       "      <td>3</td>\n",
       "      <td>1</td>\n",
       "      <td>43</td>\n",
       "      <td>0</td>\n",
       "      <td>0</td>\n",
       "      <td>0</td>\n",
       "      <td>5.0</td>\n",
       "      <td>1</td>\n",
       "      <td>2.0</td>\n",
       "      <td>3</td>\n",
       "      <td>0</td>\n",
       "      <td>1</td>\n",
       "      <td>1521</td>\n",
       "    </tr>\n",
       "    <tr>\n",
       "      <th>1</th>\n",
       "      <td>2</td>\n",
       "      <td>1</td>\n",
       "      <td>3</td>\n",
       "      <td>1</td>\n",
       "      <td>63</td>\n",
       "      <td>0</td>\n",
       "      <td>0</td>\n",
       "      <td>0</td>\n",
       "      <td>1.0</td>\n",
       "      <td>0</td>\n",
       "      <td>2.0</td>\n",
       "      <td>3</td>\n",
       "      <td>0</td>\n",
       "      <td>0</td>\n",
       "      <td>3087</td>\n",
       "    </tr>\n",
       "    <tr>\n",
       "      <th>2</th>\n",
       "      <td>3</td>\n",
       "      <td>1</td>\n",
       "      <td>1</td>\n",
       "      <td>0</td>\n",
       "      <td>71</td>\n",
       "      <td>0</td>\n",
       "      <td>0</td>\n",
       "      <td>1</td>\n",
       "      <td>7.0</td>\n",
       "      <td>1</td>\n",
       "      <td>2.0</td>\n",
       "      <td>2</td>\n",
       "      <td>0</td>\n",
       "      <td>1</td>\n",
       "      <td>963</td>\n",
       "    </tr>\n",
       "    <tr>\n",
       "      <th>3</th>\n",
       "      <td>4</td>\n",
       "      <td>1</td>\n",
       "      <td>3</td>\n",
       "      <td>0</td>\n",
       "      <td>66</td>\n",
       "      <td>1</td>\n",
       "      <td>0</td>\n",
       "      <td>0</td>\n",
       "      <td>6.0</td>\n",
       "      <td>1</td>\n",
       "      <td>2.0</td>\n",
       "      <td>3</td>\n",
       "      <td>1</td>\n",
       "      <td>1</td>\n",
       "      <td>293</td>\n",
       "    </tr>\n",
       "    <tr>\n",
       "      <th>4</th>\n",
       "      <td>5</td>\n",
       "      <td>1</td>\n",
       "      <td>1</td>\n",
       "      <td>1</td>\n",
       "      <td>69</td>\n",
       "      <td>0</td>\n",
       "      <td>0</td>\n",
       "      <td>0</td>\n",
       "      <td>22.0</td>\n",
       "      <td>1</td>\n",
       "      <td>2.0</td>\n",
       "      <td>3</td>\n",
       "      <td>1</td>\n",
       "      <td>1</td>\n",
       "      <td>659</td>\n",
       "    </tr>\n",
       "  </tbody>\n",
       "</table>\n",
       "</div>"
      ],
      "text/plain": [
       "   id  study  rx  sex  age  obstruct  perfor  adhere  nodes  status  differ  \\\n",
       "0   1      1   3    1   43         0       0       0    5.0       1     2.0   \n",
       "1   2      1   3    1   63         0       0       0    1.0       0     2.0   \n",
       "2   3      1   1    0   71         0       0       1    7.0       1     2.0   \n",
       "3   4      1   3    0   66         1       0       0    6.0       1     2.0   \n",
       "4   5      1   1    1   69         0       0       0   22.0       1     2.0   \n",
       "\n",
       "   extent  surg  node4  time  \n",
       "0       3     0      1  1521  \n",
       "1       3     0      0  3087  \n",
       "2       2     0      1   963  \n",
       "3       3     1      1   293  \n",
       "4       3     1      1   659  "
      ]
     },
     "execution_count": 5,
     "metadata": {},
     "output_type": "execute_result"
    }
   ],
   "source": [
    "# first 5 rows\n",
    "df.head()"
   ]
  },
  {
   "cell_type": "code",
   "execution_count": 23,
   "id": "f678c949",
   "metadata": {},
   "outputs": [
    {
     "data": {
      "text/plain": [
       "(929, 15)"
      ]
     },
     "execution_count": 23,
     "metadata": {},
     "output_type": "execute_result"
    }
   ],
   "source": [
    "# shape of the dataframe\n",
    "df.shape"
   ]
  },
  {
   "cell_type": "code",
   "execution_count": 24,
   "id": "4d17fac9",
   "metadata": {},
   "outputs": [
    {
     "data": {
      "text/plain": [
       "id           0\n",
       "study        0\n",
       "rx           0\n",
       "sex          0\n",
       "age          0\n",
       "obstruct     0\n",
       "perfor       0\n",
       "adhere       0\n",
       "nodes       18\n",
       "status       0\n",
       "differ      23\n",
       "extent       0\n",
       "surg         0\n",
       "node4        0\n",
       "time         0\n",
       "dtype: int64"
      ]
     },
     "execution_count": 24,
     "metadata": {},
     "output_type": "execute_result"
    }
   ],
   "source": [
    "df.isna().sum()"
   ]
  },
  {
   "cell_type": "code",
   "execution_count": 27,
   "id": "c63275f9",
   "metadata": {},
   "outputs": [],
   "source": [
    "df=df.dropna()"
   ]
  },
  {
   "cell_type": "code",
   "execution_count": 28,
   "id": "7eb25e42",
   "metadata": {},
   "outputs": [
    {
     "data": {
      "text/plain": [
       "(888, 15)"
      ]
     },
     "execution_count": 28,
     "metadata": {},
     "output_type": "execute_result"
    }
   ],
   "source": [
    "df.shape"
   ]
  },
  {
   "cell_type": "code",
   "execution_count": null,
   "id": "7163c380",
   "metadata": {},
   "outputs": [],
   "source": []
  },
  {
   "cell_type": "code",
   "execution_count": 7,
   "id": "ed483080",
   "metadata": {},
   "outputs": [],
   "source": [
    "# converting the dataframe into dictionary (JSON like structure)\n",
    "data = df.to_dict(orient=\"records\")"
   ]
  },
  {
   "cell_type": "code",
   "execution_count": 8,
   "id": "62ff3b43",
   "metadata": {},
   "outputs": [
    {
     "data": {
      "text/plain": [
       "[{'id': 1,\n",
       "  'study': 1,\n",
       "  'rx': 3,\n",
       "  'sex': 1,\n",
       "  'age': 43,\n",
       "  'obstruct': 0,\n",
       "  'perfor': 0,\n",
       "  'adhere': 0,\n",
       "  'nodes': 5.0,\n",
       "  'status': 1,\n",
       "  'differ': 2.0,\n",
       "  'extent': 3,\n",
       "  'surg': 0,\n",
       "  'node4': 1,\n",
       "  'time': 1521},\n",
       " {'id': 2,\n",
       "  'study': 1,\n",
       "  'rx': 3,\n",
       "  'sex': 1,\n",
       "  'age': 63,\n",
       "  'obstruct': 0,\n",
       "  'perfor': 0,\n",
       "  'adhere': 0,\n",
       "  'nodes': 1.0,\n",
       "  'status': 0,\n",
       "  'differ': 2.0,\n",
       "  'extent': 3,\n",
       "  'surg': 0,\n",
       "  'node4': 0,\n",
       "  'time': 3087}]"
      ]
     },
     "execution_count": 8,
     "metadata": {},
     "output_type": "execute_result"
    }
   ],
   "source": [
    "# first two rows of the dictionary\n",
    "data[0:2]"
   ]
  },
  {
   "cell_type": "code",
   "execution_count": 9,
   "id": "408fca4e",
   "metadata": {},
   "outputs": [],
   "source": [
    "# creating a new database \"db\"\n",
    "db = client[\"colon2\"]"
   ]
  },
  {
   "cell_type": "code",
   "execution_count": 10,
   "id": "7f47084a",
   "metadata": {},
   "outputs": [
    {
     "name": "stdout",
     "output_type": "stream",
     "text": [
      "Database(MongoClient(host=['localhost:27017'], document_class=dict, tz_aware=False, connect=True), 'colon2')\n"
     ]
    }
   ],
   "source": [
    "# printing details of the database\n",
    "print(db)"
   ]
  },
  {
   "cell_type": "code",
   "execution_count": 11,
   "id": "b5e8dc39",
   "metadata": {},
   "outputs": [
    {
     "data": {
      "text/plain": [
       "<pymongo.results.InsertManyResult at 0x222d1a2ac80>"
      ]
     },
     "execution_count": 11,
     "metadata": {},
     "output_type": "execute_result"
    }
   ],
   "source": [
    "# inserting the dictionary into collection \"colonCancer\" in the database \"db\"\n",
    "db.colonCancer.insert_many(data)"
   ]
  },
  {
   "cell_type": "markdown",
   "id": "4a0ef246",
   "metadata": {},
   "source": [
    "# 2. Reading documents from database"
   ]
  },
  {
   "cell_type": "code",
   "execution_count": 12,
   "id": "a0b6dfdf",
   "metadata": {},
   "outputs": [],
   "source": [
    "# creating collection object to read \"colonCancer\" collection from database \"db\"\n",
    "myCollection = db.get_collection(\"colonCancer\")"
   ]
  },
  {
   "cell_type": "code",
   "execution_count": 13,
   "id": "b89f7ccc",
   "metadata": {},
   "outputs": [
    {
     "name": "stdout",
     "output_type": "stream",
     "text": [
      "Collection(Database(MongoClient(host=['localhost:27017'], document_class=dict, tz_aware=False, connect=True), 'colon2'), 'colonCancer')\n"
     ]
    }
   ],
   "source": [
    "# details of the collection object\n",
    "print(myCollection)"
   ]
  },
  {
   "cell_type": "code",
   "execution_count": 14,
   "id": "8d60e49e",
   "metadata": {},
   "outputs": [],
   "source": [
    "# reading all documents at a time\n",
    "# it returns a iterable cursor\n",
    "allRecords = myCollection.find()"
   ]
  },
  {
   "cell_type": "code",
   "execution_count": 15,
   "id": "78576808",
   "metadata": {},
   "outputs": [],
   "source": [
    "# converting the cursor into a list\n",
    "# list is easy to operate\n",
    "listCursor = list(allRecords)"
   ]
  },
  {
   "cell_type": "code",
   "execution_count": 16,
   "id": "d969b19d",
   "metadata": {},
   "outputs": [],
   "source": [
    "# converting the list into pandas dataframe\n",
    "df2 = pd.DataFrame(listCursor)"
   ]
  },
  {
   "cell_type": "code",
   "execution_count": 17,
   "id": "ae747748",
   "metadata": {},
   "outputs": [
    {
     "data": {
      "text/html": [
       "<div>\n",
       "<style scoped>\n",
       "    .dataframe tbody tr th:only-of-type {\n",
       "        vertical-align: middle;\n",
       "    }\n",
       "\n",
       "    .dataframe tbody tr th {\n",
       "        vertical-align: top;\n",
       "    }\n",
       "\n",
       "    .dataframe thead th {\n",
       "        text-align: right;\n",
       "    }\n",
       "</style>\n",
       "<table border=\"1\" class=\"dataframe\">\n",
       "  <thead>\n",
       "    <tr style=\"text-align: right;\">\n",
       "      <th></th>\n",
       "      <th>_id</th>\n",
       "      <th>id</th>\n",
       "      <th>study</th>\n",
       "      <th>rx</th>\n",
       "      <th>sex</th>\n",
       "      <th>age</th>\n",
       "      <th>obstruct</th>\n",
       "      <th>perfor</th>\n",
       "      <th>adhere</th>\n",
       "      <th>nodes</th>\n",
       "      <th>status</th>\n",
       "      <th>differ</th>\n",
       "      <th>extent</th>\n",
       "      <th>surg</th>\n",
       "      <th>node4</th>\n",
       "      <th>time</th>\n",
       "    </tr>\n",
       "  </thead>\n",
       "  <tbody>\n",
       "    <tr>\n",
       "      <th>0</th>\n",
       "      <td>628f8e610e3eb4af7502e793</td>\n",
       "      <td>1</td>\n",
       "      <td>1</td>\n",
       "      <td>3</td>\n",
       "      <td>1</td>\n",
       "      <td>43</td>\n",
       "      <td>0</td>\n",
       "      <td>0</td>\n",
       "      <td>0</td>\n",
       "      <td>5.0</td>\n",
       "      <td>1</td>\n",
       "      <td>2.0</td>\n",
       "      <td>3</td>\n",
       "      <td>0</td>\n",
       "      <td>1</td>\n",
       "      <td>1521</td>\n",
       "    </tr>\n",
       "    <tr>\n",
       "      <th>1</th>\n",
       "      <td>628f8e610e3eb4af7502e794</td>\n",
       "      <td>2</td>\n",
       "      <td>1</td>\n",
       "      <td>3</td>\n",
       "      <td>1</td>\n",
       "      <td>63</td>\n",
       "      <td>0</td>\n",
       "      <td>0</td>\n",
       "      <td>0</td>\n",
       "      <td>1.0</td>\n",
       "      <td>0</td>\n",
       "      <td>2.0</td>\n",
       "      <td>3</td>\n",
       "      <td>0</td>\n",
       "      <td>0</td>\n",
       "      <td>3087</td>\n",
       "    </tr>\n",
       "    <tr>\n",
       "      <th>2</th>\n",
       "      <td>628f8e610e3eb4af7502e795</td>\n",
       "      <td>3</td>\n",
       "      <td>1</td>\n",
       "      <td>1</td>\n",
       "      <td>0</td>\n",
       "      <td>71</td>\n",
       "      <td>0</td>\n",
       "      <td>0</td>\n",
       "      <td>1</td>\n",
       "      <td>7.0</td>\n",
       "      <td>1</td>\n",
       "      <td>2.0</td>\n",
       "      <td>2</td>\n",
       "      <td>0</td>\n",
       "      <td>1</td>\n",
       "      <td>963</td>\n",
       "    </tr>\n",
       "    <tr>\n",
       "      <th>3</th>\n",
       "      <td>628f8e610e3eb4af7502e796</td>\n",
       "      <td>4</td>\n",
       "      <td>1</td>\n",
       "      <td>3</td>\n",
       "      <td>0</td>\n",
       "      <td>66</td>\n",
       "      <td>1</td>\n",
       "      <td>0</td>\n",
       "      <td>0</td>\n",
       "      <td>6.0</td>\n",
       "      <td>1</td>\n",
       "      <td>2.0</td>\n",
       "      <td>3</td>\n",
       "      <td>1</td>\n",
       "      <td>1</td>\n",
       "      <td>293</td>\n",
       "    </tr>\n",
       "    <tr>\n",
       "      <th>4</th>\n",
       "      <td>628f8e610e3eb4af7502e797</td>\n",
       "      <td>5</td>\n",
       "      <td>1</td>\n",
       "      <td>1</td>\n",
       "      <td>1</td>\n",
       "      <td>69</td>\n",
       "      <td>0</td>\n",
       "      <td>0</td>\n",
       "      <td>0</td>\n",
       "      <td>22.0</td>\n",
       "      <td>1</td>\n",
       "      <td>2.0</td>\n",
       "      <td>3</td>\n",
       "      <td>1</td>\n",
       "      <td>1</td>\n",
       "      <td>659</td>\n",
       "    </tr>\n",
       "  </tbody>\n",
       "</table>\n",
       "</div>"
      ],
      "text/plain": [
       "                        _id  id  study  rx  sex  age  obstruct  perfor  \\\n",
       "0  628f8e610e3eb4af7502e793   1      1   3    1   43         0       0   \n",
       "1  628f8e610e3eb4af7502e794   2      1   3    1   63         0       0   \n",
       "2  628f8e610e3eb4af7502e795   3      1   1    0   71         0       0   \n",
       "3  628f8e610e3eb4af7502e796   4      1   3    0   66         1       0   \n",
       "4  628f8e610e3eb4af7502e797   5      1   1    1   69         0       0   \n",
       "\n",
       "   adhere  nodes  status  differ  extent  surg  node4  time  \n",
       "0       0    5.0       1     2.0       3     0      1  1521  \n",
       "1       0    1.0       0     2.0       3     0      0  3087  \n",
       "2       1    7.0       1     2.0       2     0      1   963  \n",
       "3       0    6.0       1     2.0       3     1      1   293  \n",
       "4       0   22.0       1     2.0       3     1      1   659  "
      ]
     },
     "execution_count": 17,
     "metadata": {},
     "output_type": "execute_result"
    }
   ],
   "source": [
    "# first five rows of the dataframe\n",
    "df2.head()"
   ]
  },
  {
   "cell_type": "markdown",
   "id": "88caa301",
   "metadata": {},
   "source": [
    "### ***Organize Our Data***"
   ]
  },
  {
   "cell_type": "code",
   "execution_count": 18,
   "id": "c9c65d7a",
   "metadata": {},
   "outputs": [
    {
     "data": {
      "text/html": [
       "<div>\n",
       "<style scoped>\n",
       "    .dataframe tbody tr th:only-of-type {\n",
       "        vertical-align: middle;\n",
       "    }\n",
       "\n",
       "    .dataframe tbody tr th {\n",
       "        vertical-align: top;\n",
       "    }\n",
       "\n",
       "    .dataframe thead th {\n",
       "        text-align: right;\n",
       "    }\n",
       "</style>\n",
       "<table border=\"1\" class=\"dataframe\">\n",
       "  <thead>\n",
       "    <tr style=\"text-align: right;\">\n",
       "      <th></th>\n",
       "      <th>rx</th>\n",
       "      <th>sex</th>\n",
       "      <th>age</th>\n",
       "      <th>obstruct</th>\n",
       "      <th>perfor</th>\n",
       "      <th>adhere</th>\n",
       "      <th>nodes</th>\n",
       "      <th>status</th>\n",
       "      <th>differ</th>\n",
       "      <th>extent</th>\n",
       "      <th>surg</th>\n",
       "      <th>node4</th>\n",
       "      <th>time</th>\n",
       "    </tr>\n",
       "  </thead>\n",
       "  <tbody>\n",
       "    <tr>\n",
       "      <th>0</th>\n",
       "      <td>3</td>\n",
       "      <td>1</td>\n",
       "      <td>43</td>\n",
       "      <td>0</td>\n",
       "      <td>0</td>\n",
       "      <td>0</td>\n",
       "      <td>5.0</td>\n",
       "      <td>1</td>\n",
       "      <td>2.0</td>\n",
       "      <td>3</td>\n",
       "      <td>0</td>\n",
       "      <td>1</td>\n",
       "      <td>1521</td>\n",
       "    </tr>\n",
       "    <tr>\n",
       "      <th>1</th>\n",
       "      <td>3</td>\n",
       "      <td>1</td>\n",
       "      <td>63</td>\n",
       "      <td>0</td>\n",
       "      <td>0</td>\n",
       "      <td>0</td>\n",
       "      <td>1.0</td>\n",
       "      <td>0</td>\n",
       "      <td>2.0</td>\n",
       "      <td>3</td>\n",
       "      <td>0</td>\n",
       "      <td>0</td>\n",
       "      <td>3087</td>\n",
       "    </tr>\n",
       "    <tr>\n",
       "      <th>2</th>\n",
       "      <td>1</td>\n",
       "      <td>0</td>\n",
       "      <td>71</td>\n",
       "      <td>0</td>\n",
       "      <td>0</td>\n",
       "      <td>1</td>\n",
       "      <td>7.0</td>\n",
       "      <td>1</td>\n",
       "      <td>2.0</td>\n",
       "      <td>2</td>\n",
       "      <td>0</td>\n",
       "      <td>1</td>\n",
       "      <td>963</td>\n",
       "    </tr>\n",
       "    <tr>\n",
       "      <th>3</th>\n",
       "      <td>3</td>\n",
       "      <td>0</td>\n",
       "      <td>66</td>\n",
       "      <td>1</td>\n",
       "      <td>0</td>\n",
       "      <td>0</td>\n",
       "      <td>6.0</td>\n",
       "      <td>1</td>\n",
       "      <td>2.0</td>\n",
       "      <td>3</td>\n",
       "      <td>1</td>\n",
       "      <td>1</td>\n",
       "      <td>293</td>\n",
       "    </tr>\n",
       "    <tr>\n",
       "      <th>4</th>\n",
       "      <td>1</td>\n",
       "      <td>1</td>\n",
       "      <td>69</td>\n",
       "      <td>0</td>\n",
       "      <td>0</td>\n",
       "      <td>0</td>\n",
       "      <td>22.0</td>\n",
       "      <td>1</td>\n",
       "      <td>2.0</td>\n",
       "      <td>3</td>\n",
       "      <td>1</td>\n",
       "      <td>1</td>\n",
       "      <td>659</td>\n",
       "    </tr>\n",
       "  </tbody>\n",
       "</table>\n",
       "</div>"
      ],
      "text/plain": [
       "   rx  sex  age  obstruct  perfor  adhere  nodes  status  differ  extent  \\\n",
       "0   3    1   43         0       0       0    5.0       1     2.0       3   \n",
       "1   3    1   63         0       0       0    1.0       0     2.0       3   \n",
       "2   1    0   71         0       0       1    7.0       1     2.0       2   \n",
       "3   3    0   66         1       0       0    6.0       1     2.0       3   \n",
       "4   1    1   69         0       0       0   22.0       1     2.0       3   \n",
       "\n",
       "   surg  node4  time  \n",
       "0     0      1  1521  \n",
       "1     0      0  3087  \n",
       "2     0      1   963  \n",
       "3     1      1   293  \n",
       "4     1      1   659  "
      ]
     },
     "execution_count": 18,
     "metadata": {},
     "output_type": "execute_result"
    }
   ],
   "source": [
    "df2=df2.drop(columns=['_id', 'id', 'study'])\n",
    "# drop rows containing null values\n",
    "df2=df2.dropna()\n",
    "df2.head()"
   ]
  },
  {
   "cell_type": "markdown",
   "id": "e455fd22",
   "metadata": {},
   "source": [
    "### ***import Cox regression library:***"
   ]
  },
  {
   "cell_type": "code",
   "execution_count": 19,
   "id": "42035a19",
   "metadata": {},
   "outputs": [],
   "source": [
    "from lifelines import CoxPHFitter"
   ]
  },
  {
   "cell_type": "markdown",
   "id": "b91a7901",
   "metadata": {},
   "source": [
    "### ***Create CPH object:***"
   ]
  },
  {
   "cell_type": "code",
   "execution_count": 20,
   "id": "a8fb323c",
   "metadata": {},
   "outputs": [],
   "source": [
    "cph=CoxPHFitter()"
   ]
  },
  {
   "cell_type": "markdown",
   "id": "650d4534",
   "metadata": {},
   "source": [
    "### ***Fit data into CPH object:***"
   ]
  },
  {
   "cell_type": "code",
   "execution_count": 21,
   "id": "832d09d4",
   "metadata": {},
   "outputs": [
    {
     "name": "stderr",
     "output_type": "stream",
     "text": [
      "C:\\Users\\Ripan\\anaconda3\\lib\\site-packages\\lifelines\\utils\\printer.py:74: FutureWarning: Index.__and__ operating as a set operation is deprecated, in the future this will be a logical operation matching Series.__and__.  Use index.intersection(other) instead\n",
      "  columns = summary_df.columns & self.columns\n",
      "C:\\Users\\Ripan\\anaconda3\\lib\\site-packages\\lifelines\\utils\\printer.py:61: FutureWarning: Index.__and__ operating as a set operation is deprecated, in the future this will be a logical operation matching Series.__and__.  Use index.intersection(other) instead\n",
      "  columns = summary_df.columns & self.columns\n"
     ]
    },
    {
     "data": {
      "text/html": [
       "<div>\n",
       "<style scoped>\n",
       "    .dataframe tbody tr th:only-of-type {\n",
       "        vertical-align: middle;\n",
       "    }\n",
       "\n",
       "    .dataframe tbody tr th {\n",
       "        vertical-align: top;\n",
       "    }\n",
       "\n",
       "    .dataframe thead th {\n",
       "        text-align: right;\n",
       "    }\n",
       "</style>\n",
       "<table border=\"1\" class=\"dataframe\">\n",
       "  <tbody>\n",
       "    <tr>\n",
       "      <th>model</th>\n",
       "      <td>lifelines.CoxPHFitter</td>\n",
       "    </tr>\n",
       "    <tr>\n",
       "      <th>duration col</th>\n",
       "      <td>'time'</td>\n",
       "    </tr>\n",
       "    <tr>\n",
       "      <th>event col</th>\n",
       "      <td>'status'</td>\n",
       "    </tr>\n",
       "    <tr>\n",
       "      <th>baseline estimation</th>\n",
       "      <td>breslow</td>\n",
       "    </tr>\n",
       "    <tr>\n",
       "      <th>number of observations</th>\n",
       "      <td>2664</td>\n",
       "    </tr>\n",
       "    <tr>\n",
       "      <th>number of events observed</th>\n",
       "      <td>1290</td>\n",
       "    </tr>\n",
       "    <tr>\n",
       "      <th>partial log-likelihood</th>\n",
       "      <td>-9513.21</td>\n",
       "    </tr>\n",
       "    <tr>\n",
       "      <th>time fit was run</th>\n",
       "      <td>2022-05-26 15:08:03 UTC</td>\n",
       "    </tr>\n",
       "  </tbody>\n",
       "</table>\n",
       "</div><table border=\"1\" class=\"dataframe\">\n",
       "  <thead>\n",
       "    <tr style=\"text-align: right;\">\n",
       "      <th style=\"min-width: 12px;\"></th>\n",
       "      <th style=\"min-width: 12px;\">coef</th>\n",
       "      <th style=\"min-width: 12px;\">exp(coef)</th>\n",
       "      <th style=\"min-width: 12px;\">exp(coef) lower 95%</th>\n",
       "      <th style=\"min-width: 12px;\">exp(coef) upper 95%</th>\n",
       "      <th style=\"min-width: 12px;\">z</th>\n",
       "      <th style=\"min-width: 12px;\">p</th>\n",
       "    </tr>\n",
       "  </thead>\n",
       "  <tbody>\n",
       "    <tr>\n",
       "      <th>rx</th>\n",
       "      <td>-0.17</td>\n",
       "      <td>0.84</td>\n",
       "      <td>0.79</td>\n",
       "      <td>0.90</td>\n",
       "      <td>-5.07</td>\n",
       "      <td>&lt;0.005</td>\n",
       "    </tr>\n",
       "    <tr>\n",
       "      <th>sex</th>\n",
       "      <td>0.01</td>\n",
       "      <td>1.01</td>\n",
       "      <td>0.91</td>\n",
       "      <td>1.13</td>\n",
       "      <td>0.20</td>\n",
       "      <td>0.84</td>\n",
       "    </tr>\n",
       "    <tr>\n",
       "      <th>age</th>\n",
       "      <td>0.01</td>\n",
       "      <td>1.01</td>\n",
       "      <td>1.00</td>\n",
       "      <td>1.01</td>\n",
       "      <td>3.10</td>\n",
       "      <td>&lt;0.005</td>\n",
       "    </tr>\n",
       "    <tr>\n",
       "      <th>obstruct</th>\n",
       "      <td>0.26</td>\n",
       "      <td>1.30</td>\n",
       "      <td>1.13</td>\n",
       "      <td>1.49</td>\n",
       "      <td>3.76</td>\n",
       "      <td>&lt;0.005</td>\n",
       "    </tr>\n",
       "    <tr>\n",
       "      <th>perfor</th>\n",
       "      <td>0.03</td>\n",
       "      <td>1.03</td>\n",
       "      <td>0.76</td>\n",
       "      <td>1.40</td>\n",
       "      <td>0.18</td>\n",
       "      <td>0.85</td>\n",
       "    </tr>\n",
       "    <tr>\n",
       "      <th>adhere</th>\n",
       "      <td>0.17</td>\n",
       "      <td>1.19</td>\n",
       "      <td>1.02</td>\n",
       "      <td>1.38</td>\n",
       "      <td>2.28</td>\n",
       "      <td>0.02</td>\n",
       "    </tr>\n",
       "    <tr>\n",
       "      <th>nodes</th>\n",
       "      <td>0.05</td>\n",
       "      <td>1.05</td>\n",
       "      <td>1.03</td>\n",
       "      <td>1.06</td>\n",
       "      <td>5.12</td>\n",
       "      <td>&lt;0.005</td>\n",
       "    </tr>\n",
       "    <tr>\n",
       "      <th>differ</th>\n",
       "      <td>0.12</td>\n",
       "      <td>1.13</td>\n",
       "      <td>1.01</td>\n",
       "      <td>1.27</td>\n",
       "      <td>2.14</td>\n",
       "      <td>0.03</td>\n",
       "    </tr>\n",
       "    <tr>\n",
       "      <th>extent</th>\n",
       "      <td>0.45</td>\n",
       "      <td>1.56</td>\n",
       "      <td>1.37</td>\n",
       "      <td>1.79</td>\n",
       "      <td>6.55</td>\n",
       "      <td>&lt;0.005</td>\n",
       "    </tr>\n",
       "    <tr>\n",
       "      <th>surg</th>\n",
       "      <td>0.24</td>\n",
       "      <td>1.27</td>\n",
       "      <td>1.12</td>\n",
       "      <td>1.43</td>\n",
       "      <td>3.86</td>\n",
       "      <td>&lt;0.005</td>\n",
       "    </tr>\n",
       "    <tr>\n",
       "      <th>node4</th>\n",
       "      <td>0.67</td>\n",
       "      <td>1.95</td>\n",
       "      <td>1.66</td>\n",
       "      <td>2.30</td>\n",
       "      <td>8.10</td>\n",
       "      <td>&lt;0.005</td>\n",
       "    </tr>\n",
       "  </tbody>\n",
       "</table><br><div>\n",
       "<style scoped>\n",
       "    .dataframe tbody tr th:only-of-type {\n",
       "        vertical-align: middle;\n",
       "    }\n",
       "\n",
       "    .dataframe tbody tr th {\n",
       "        vertical-align: top;\n",
       "    }\n",
       "\n",
       "    .dataframe thead th {\n",
       "        text-align: right;\n",
       "    }\n",
       "</style>\n",
       "<table border=\"1\" class=\"dataframe\">\n",
       "  <tbody>\n",
       "    <tr>\n",
       "      <th>Concordance</th>\n",
       "      <td>0.67</td>\n",
       "    </tr>\n",
       "    <tr>\n",
       "      <th>Partial AIC</th>\n",
       "      <td>19048.42</td>\n",
       "    </tr>\n",
       "    <tr>\n",
       "      <th>log-likelihood ratio test</th>\n",
       "      <td>413.89 on 11 df</td>\n",
       "    </tr>\n",
       "    <tr>\n",
       "      <th>-log2(p) of ll-ratio test</th>\n",
       "      <td>269.62</td>\n",
       "    </tr>\n",
       "  </tbody>\n",
       "</table>\n",
       "</div>"
      ],
      "text/latex": [
       "\\begin{tabular}{lrrrrrr}\n",
       "\\toprule\n",
       "{} &  coef &  exp(coef) &  exp(coef) lower 95\\% &  exp(coef) upper 95\\% &     z &    p \\\\\n",
       "covariate &       &            &                      &                      &       &      \\\\\n",
       "\\midrule\n",
       "rx        & -0.17 &       0.84 &                 0.79 &                 0.90 & -5.07 & 0.00 \\\\\n",
       "sex       &  0.01 &       1.01 &                 0.91 &                 1.13 &  0.20 & 0.84 \\\\\n",
       "age       &  0.01 &       1.01 &                 1.00 &                 1.01 &  3.10 & 0.00 \\\\\n",
       "obstruct  &  0.26 &       1.30 &                 1.13 &                 1.49 &  3.76 & 0.00 \\\\\n",
       "perfor    &  0.03 &       1.03 &                 0.76 &                 1.40 &  0.18 & 0.85 \\\\\n",
       "adhere    &  0.17 &       1.19 &                 1.02 &                 1.38 &  2.28 & 0.02 \\\\\n",
       "nodes     &  0.05 &       1.05 &                 1.03 &                 1.06 &  5.12 & 0.00 \\\\\n",
       "differ    &  0.12 &       1.13 &                 1.01 &                 1.27 &  2.14 & 0.03 \\\\\n",
       "extent    &  0.45 &       1.56 &                 1.37 &                 1.79 &  6.55 & 0.00 \\\\\n",
       "surg      &  0.24 &       1.27 &                 1.12 &                 1.43 &  3.86 & 0.00 \\\\\n",
       "node4     &  0.67 &       1.95 &                 1.66 &                 2.30 &  8.10 & 0.00 \\\\\n",
       "\\bottomrule\n",
       "\\end{tabular}\n"
      ],
      "text/plain": [
       "<lifelines.CoxPHFitter: fitted with 2664 total observations, 1374 right-censored observations>\n",
       "             duration col = 'time'\n",
       "                event col = 'status'\n",
       "      baseline estimation = breslow\n",
       "   number of observations = 2664\n",
       "number of events observed = 1290\n",
       "   partial log-likelihood = -9513.21\n",
       "         time fit was run = 2022-05-26 15:08:03 UTC\n",
       "\n",
       "---\n",
       "            coef  exp(coef)  exp(coef) lower 95%  exp(coef) upper 95%     z      p\n",
       "covariate                                                                         \n",
       "rx         -0.17       0.84                 0.79                 0.90 -5.07 <0.005\n",
       "sex         0.01       1.01                 0.91                 1.13  0.20   0.84\n",
       "age         0.01       1.01                 1.00                 1.01  3.10 <0.005\n",
       "obstruct    0.26       1.30                 1.13                 1.49  3.76 <0.005\n",
       "perfor      0.03       1.03                 0.76                 1.40  0.18   0.85\n",
       "adhere      0.17       1.19                 1.02                 1.38  2.28   0.02\n",
       "nodes       0.05       1.05                 1.03                 1.06  5.12 <0.005\n",
       "differ      0.12       1.13                 1.01                 1.27  2.14   0.03\n",
       "extent      0.45       1.56                 1.37                 1.79  6.55 <0.005\n",
       "surg        0.24       1.27                 1.12                 1.43  3.86 <0.005\n",
       "node4       0.67       1.95                 1.66                 2.30  8.10 <0.005\n",
       "---\n",
       "Concordance = 0.67\n",
       "Partial AIC = 19048.42\n",
       "log-likelihood ratio test = 413.89 on 11 df\n",
       "-log2(p) of ll-ratio test = 269.62"
      ]
     },
     "metadata": {},
     "output_type": "display_data"
    }
   ],
   "source": [
    "# fitting all columns\n",
    "cph.fit(df2, \"time\", event_col=\"status\")\n",
    "cph.print_summary(columns=[\"coef\",\"exp(coef)\",\"exp(coef) lower 95%\",\"exp(coef) upper 95%\", \"z\", \"p\"])"
   ]
  },
  {
   "cell_type": "code",
   "execution_count": 22,
   "id": "a82e1e92",
   "metadata": {},
   "outputs": [
    {
     "data": {
      "text/plain": [
       "(2664, 13)"
      ]
     },
     "execution_count": 22,
     "metadata": {},
     "output_type": "execute_result"
    }
   ],
   "source": [
    "df2.shape"
   ]
  },
  {
   "cell_type": "code",
   "execution_count": null,
   "id": "e75e9a35",
   "metadata": {},
   "outputs": [],
   "source": []
  }
 ],
 "metadata": {
  "kernelspec": {
   "display_name": "Python 3 (ipykernel)",
   "language": "python",
   "name": "python3"
  },
  "language_info": {
   "codemirror_mode": {
    "name": "ipython",
    "version": 3
   },
   "file_extension": ".py",
   "mimetype": "text/x-python",
   "name": "python",
   "nbconvert_exporter": "python",
   "pygments_lexer": "ipython3",
   "version": "3.9.7"
  }
 },
 "nbformat": 4,
 "nbformat_minor": 5
}
