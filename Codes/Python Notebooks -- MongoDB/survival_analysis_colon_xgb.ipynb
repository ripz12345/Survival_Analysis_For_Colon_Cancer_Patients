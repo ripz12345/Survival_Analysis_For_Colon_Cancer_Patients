{
 "cells": [
  {
   "cell_type": "code",
   "execution_count": 1,
   "id": "a7bfe5c8",
   "metadata": {},
   "outputs": [
    {
     "name": "stdout",
     "output_type": "stream",
     "text": [
      "Requirement already satisfied: pymongo in c:\\users\\ripan\\anaconda3\\lib\\site-packages (4.0.1)\n",
      "Requirement already satisfied: xgboost in c:\\users\\ripan\\anaconda3\\lib\\site-packages (1.6.1)\n",
      "Requirement already satisfied: numpy in c:\\users\\ripan\\anaconda3\\lib\\site-packages (from xgboost) (1.20.3)\n",
      "Requirement already satisfied: scipy in c:\\users\\ripan\\anaconda3\\lib\\site-packages (from xgboost) (1.7.1)\n"
     ]
    }
   ],
   "source": [
    "# Importing the libraries\n",
    "import numpy as np\n",
    "import matplotlib.pyplot as plt\n",
    "import pandas as pd\n",
    "from sklearn.model_selection import train_test_split\n",
    "# import required libraries\n",
    "!pip install pymongo\n",
    "!pip install xgboost\n",
    "import pandas as pd\n",
    "import json\n",
    "# import pymongo which creates the connection between python and mongoDB\n",
    "import pymongo"
   ]
  },
  {
   "cell_type": "code",
   "execution_count": 2,
   "id": "ba1acd11",
   "metadata": {},
   "outputs": [],
   "source": [
    "# creating a client for pymongo\n",
    "client = pymongo.MongoClient(\"mongodb://localhost:27017\")\n",
    "# importing our CSV file into a pandas dataframe\n",
    "df = pd.read_csv(\"C:\\data\\db\\colon.csv\")"
   ]
  },
  {
   "cell_type": "code",
   "execution_count": 3,
   "id": "db39fc9c",
   "metadata": {},
   "outputs": [
    {
     "data": {
      "text/html": [
       "<div>\n",
       "<style scoped>\n",
       "    .dataframe tbody tr th:only-of-type {\n",
       "        vertical-align: middle;\n",
       "    }\n",
       "\n",
       "    .dataframe tbody tr th {\n",
       "        vertical-align: top;\n",
       "    }\n",
       "\n",
       "    .dataframe thead th {\n",
       "        text-align: right;\n",
       "    }\n",
       "</style>\n",
       "<table border=\"1\" class=\"dataframe\">\n",
       "  <thead>\n",
       "    <tr style=\"text-align: right;\">\n",
       "      <th></th>\n",
       "      <th>id</th>\n",
       "      <th>study</th>\n",
       "      <th>rx</th>\n",
       "      <th>sex</th>\n",
       "      <th>age</th>\n",
       "      <th>obstruct</th>\n",
       "      <th>perfor</th>\n",
       "      <th>adhere</th>\n",
       "      <th>nodes</th>\n",
       "      <th>status</th>\n",
       "      <th>differ</th>\n",
       "      <th>extent</th>\n",
       "      <th>surg</th>\n",
       "      <th>node4</th>\n",
       "      <th>time</th>\n",
       "    </tr>\n",
       "  </thead>\n",
       "  <tbody>\n",
       "    <tr>\n",
       "      <th>0</th>\n",
       "      <td>1</td>\n",
       "      <td>1</td>\n",
       "      <td>3</td>\n",
       "      <td>1</td>\n",
       "      <td>43</td>\n",
       "      <td>0</td>\n",
       "      <td>0</td>\n",
       "      <td>0</td>\n",
       "      <td>5.0</td>\n",
       "      <td>1</td>\n",
       "      <td>2.0</td>\n",
       "      <td>3</td>\n",
       "      <td>0</td>\n",
       "      <td>1</td>\n",
       "      <td>1521</td>\n",
       "    </tr>\n",
       "    <tr>\n",
       "      <th>1</th>\n",
       "      <td>2</td>\n",
       "      <td>1</td>\n",
       "      <td>3</td>\n",
       "      <td>1</td>\n",
       "      <td>63</td>\n",
       "      <td>0</td>\n",
       "      <td>0</td>\n",
       "      <td>0</td>\n",
       "      <td>1.0</td>\n",
       "      <td>0</td>\n",
       "      <td>2.0</td>\n",
       "      <td>3</td>\n",
       "      <td>0</td>\n",
       "      <td>0</td>\n",
       "      <td>3087</td>\n",
       "    </tr>\n",
       "    <tr>\n",
       "      <th>2</th>\n",
       "      <td>3</td>\n",
       "      <td>1</td>\n",
       "      <td>1</td>\n",
       "      <td>0</td>\n",
       "      <td>71</td>\n",
       "      <td>0</td>\n",
       "      <td>0</td>\n",
       "      <td>1</td>\n",
       "      <td>7.0</td>\n",
       "      <td>1</td>\n",
       "      <td>2.0</td>\n",
       "      <td>2</td>\n",
       "      <td>0</td>\n",
       "      <td>1</td>\n",
       "      <td>963</td>\n",
       "    </tr>\n",
       "    <tr>\n",
       "      <th>3</th>\n",
       "      <td>4</td>\n",
       "      <td>1</td>\n",
       "      <td>3</td>\n",
       "      <td>0</td>\n",
       "      <td>66</td>\n",
       "      <td>1</td>\n",
       "      <td>0</td>\n",
       "      <td>0</td>\n",
       "      <td>6.0</td>\n",
       "      <td>1</td>\n",
       "      <td>2.0</td>\n",
       "      <td>3</td>\n",
       "      <td>1</td>\n",
       "      <td>1</td>\n",
       "      <td>293</td>\n",
       "    </tr>\n",
       "    <tr>\n",
       "      <th>4</th>\n",
       "      <td>5</td>\n",
       "      <td>1</td>\n",
       "      <td>1</td>\n",
       "      <td>1</td>\n",
       "      <td>69</td>\n",
       "      <td>0</td>\n",
       "      <td>0</td>\n",
       "      <td>0</td>\n",
       "      <td>22.0</td>\n",
       "      <td>1</td>\n",
       "      <td>2.0</td>\n",
       "      <td>3</td>\n",
       "      <td>1</td>\n",
       "      <td>1</td>\n",
       "      <td>659</td>\n",
       "    </tr>\n",
       "  </tbody>\n",
       "</table>\n",
       "</div>"
      ],
      "text/plain": [
       "   id  study  rx  sex  age  obstruct  perfor  adhere  nodes  status  differ  \\\n",
       "0   1      1   3    1   43         0       0       0    5.0       1     2.0   \n",
       "1   2      1   3    1   63         0       0       0    1.0       0     2.0   \n",
       "2   3      1   1    0   71         0       0       1    7.0       1     2.0   \n",
       "3   4      1   3    0   66         1       0       0    6.0       1     2.0   \n",
       "4   5      1   1    1   69         0       0       0   22.0       1     2.0   \n",
       "\n",
       "   extent  surg  node4  time  \n",
       "0       3     0      1  1521  \n",
       "1       3     0      0  3087  \n",
       "2       2     0      1   963  \n",
       "3       3     1      1   293  \n",
       "4       3     1      1   659  "
      ]
     },
     "execution_count": 3,
     "metadata": {},
     "output_type": "execute_result"
    }
   ],
   "source": [
    "# first 5 rows\n",
    "df.head()"
   ]
  },
  {
   "cell_type": "code",
   "execution_count": 4,
   "id": "3db1a49f",
   "metadata": {},
   "outputs": [
    {
     "data": {
      "text/plain": [
       "(929, 15)"
      ]
     },
     "execution_count": 4,
     "metadata": {},
     "output_type": "execute_result"
    }
   ],
   "source": [
    "# shape of the dataframe\n",
    "df.shape"
   ]
  },
  {
   "cell_type": "code",
   "execution_count": 5,
   "id": "4fac967c",
   "metadata": {},
   "outputs": [],
   "source": [
    "df=df.dropna()"
   ]
  },
  {
   "cell_type": "code",
   "execution_count": 6,
   "id": "33b474b0",
   "metadata": {},
   "outputs": [],
   "source": [
    "# converting the dataframe into dictionary (JSON like structure)\n",
    "data = df.to_dict(orient=\"records\")"
   ]
  },
  {
   "cell_type": "code",
   "execution_count": 7,
   "id": "cc01bbf5",
   "metadata": {},
   "outputs": [],
   "source": [
    "# creating a new database \"db\"\n",
    "db = client[\"colon\"]"
   ]
  },
  {
   "cell_type": "code",
   "execution_count": 8,
   "id": "c79a3b15",
   "metadata": {},
   "outputs": [
    {
     "data": {
      "text/plain": [
       "<pymongo.results.InsertManyResult at 0x1cde10dd180>"
      ]
     },
     "execution_count": 8,
     "metadata": {},
     "output_type": "execute_result"
    }
   ],
   "source": [
    "# inserting the dictionary into collection \"colonCancer\" in the database \"db\"\n",
    "db.colonCancer.insert_many(data)"
   ]
  },
  {
   "cell_type": "code",
   "execution_count": 9,
   "id": "bac1c84e",
   "metadata": {},
   "outputs": [],
   "source": [
    "# creating a client for pymongo\n",
    "client = pymongo.MongoClient(\"mongodb://localhost:27017\")\n",
    "# creating collection object to read \"colonCancer\" collection from database \"db\"\n",
    "myCollection = db.get_collection(\"colonCancer\")\n",
    "# reading all documents at a time\n",
    "# it returns a iterable cursor\n",
    "allRecords = myCollection.find()\n",
    "# converting the cursor into a list\n",
    "# list is easy to operate\n",
    "listCursor = list(allRecords)\n",
    "# converting the list into pandas dataframe\n",
    "df = pd.DataFrame(listCursor)"
   ]
  },
  {
   "cell_type": "code",
   "execution_count": 10,
   "id": "4d050b14",
   "metadata": {},
   "outputs": [
    {
     "data": {
      "text/plain": [
       "_id         0\n",
       "id          0\n",
       "study       0\n",
       "rx          0\n",
       "sex         0\n",
       "age         0\n",
       "obstruct    0\n",
       "perfor      0\n",
       "adhere      0\n",
       "nodes       0\n",
       "status      0\n",
       "differ      0\n",
       "extent      0\n",
       "surg        0\n",
       "node4       0\n",
       "time        0\n",
       "dtype: int64"
      ]
     },
     "execution_count": 10,
     "metadata": {},
     "output_type": "execute_result"
    }
   ],
   "source": [
    "df.head()\n",
    "df.isna().sum()"
   ]
  },
  {
   "cell_type": "code",
   "execution_count": 11,
   "id": "74f20bc2",
   "metadata": {},
   "outputs": [
    {
     "data": {
      "text/plain": [
       "(3552, 16)"
      ]
     },
     "execution_count": 11,
     "metadata": {},
     "output_type": "execute_result"
    }
   ],
   "source": [
    "df.shape\n",
    "# df['nodes'] = df['nodes'].astype(int)\n",
    "# df['differ'] = df['differ'].astype(int)"
   ]
  },
  {
   "cell_type": "code",
   "execution_count": 12,
   "id": "ff9b8ab3",
   "metadata": {},
   "outputs": [],
   "source": [
    "# getting independent variables\n",
    "X=df[['rx','sex','age','obstruct','perfor','adhere','nodes','differ','extent','surg','time']]\n",
    "\n",
    "y=df[['status']]\n",
    "\n",
    "X_train, X_test, y_train, y_test = train_test_split(X, y, test_size = 0.2)"
   ]
  },
  {
   "cell_type": "code",
   "execution_count": 13,
   "id": "b0c2632e",
   "metadata": {},
   "outputs": [
    {
     "data": {
      "text/plain": [
       "XGBRegressor(base_score=0.5, booster='gbtree', callbacks=None,\n",
       "             colsample_bylevel=1, colsample_bynode=1, colsample_bytree=0.6,\n",
       "             early_stopping_rounds=None, enable_categorical=False,\n",
       "             eval_metric=None, gamma=0.4, gpu_id=-1, grow_policy='depthwise',\n",
       "             importance_type=None, interaction_constraints='',\n",
       "             learning_rate=0.02, max_bin=256, max_cat_to_onehot=4,\n",
       "             max_delta_step=0, max_depth=3, max_leaves=0, min_child_weight=5,\n",
       "             missing=nan, monotone_constraints='()', n_estimators=200, n_jobs=0,\n",
       "             num_parallel_tree=1, predictor='auto', random_state=0,\n",
       "             reg_alpha=1.1, reg_lambda=1, ...)"
      ]
     },
     "execution_count": 13,
     "metadata": {},
     "output_type": "execute_result"
    }
   ],
   "source": [
    "from sklearn.ensemble import AdaBoostRegressor\n",
    "from sklearn.ensemble import RandomForestRegressor\n",
    "from sklearn.neighbors import KNeighborsRegressor\n",
    "from xgboost import XGBRegressor\n",
    "rfr = RandomForestRegressor(n_estimators = 100)\n",
    "knn = KNeighborsRegressor(n_neighbors=20, metric='euclidean')\n",
    "ada = AdaBoostRegressor()\n",
    "#ada.fit(X_train,y_train)\n",
    "xgb = XGBRegressor(max_depth=3, learning_rate=0.02, n_estimators=200, min_child_weight=5, gamma=0.4, colsample_bytree=0.6, subsample=0.8, reg_alpha=1.1)\n",
    "xgb.fit(X_train,y_train)"
   ]
  },
  {
   "cell_type": "code",
   "execution_count": 14,
   "id": "83f33975",
   "metadata": {},
   "outputs": [],
   "source": [
    "#y_pred = ada.predict(X_test)\n",
    "y_pred = xgb.predict(X_test)\n",
    "\n",
    "y_test = np.asarray(y_test)"
   ]
  },
  {
   "cell_type": "code",
   "execution_count": 15,
   "id": "052b2a26",
   "metadata": {},
   "outputs": [],
   "source": [
    "def perf_measure(y_actual, y_hat):\n",
    "    TP = 0\n",
    "    FP = 0\n",
    "    TN = 0\n",
    "    FN = 0\n",
    "    for i in range(len(y_hat)): \n",
    "        if y_actual[i]==y_hat[i]==1:\n",
    "            TP += 1\n",
    "        if y_hat[i]==1 and y_actual[i]!=y_hat[i]:\n",
    "            FP += 1\n",
    "        if y_actual[i]==y_hat[i]==0:\n",
    "            TN += 1\n",
    "        if y_hat[i]==0 and y_actual[i]!=y_hat[i]:\n",
    "            FN += 1\n",
    "\n",
    "    return(TP, FP, TN, FN)"
   ]
  },
  {
   "cell_type": "code",
   "execution_count": 16,
   "id": "5ac7a66f",
   "metadata": {},
   "outputs": [],
   "source": [
    "a=np.where(y_test<0.5,0,1)\n",
    "b=np.where(y_pred<0.5,0,1)"
   ]
  },
  {
   "cell_type": "code",
   "execution_count": 17,
   "id": "5d789976",
   "metadata": {},
   "outputs": [
    {
     "name": "stdout",
     "output_type": "stream",
     "text": [
      "Accuracy: : 0.9465541490857946\n"
     ]
    }
   ],
   "source": [
    "tp,fp,tn,fn=perf_measure(a,b)\n",
    "acc=(tp+tn)/(tp+fp+tn+fn)\n",
    "print(\"Accuracy: :\",acc)"
   ]
  },
  {
   "cell_type": "code",
   "execution_count": 19,
   "id": "f186e8de",
   "metadata": {},
   "outputs": [
    {
     "ename": "ValueError",
     "evalue": "Unknown format code 'f' for object of type 'str'",
     "output_type": "error",
     "traceback": [
      "\u001b[1;31m---------------------------------------------------------------------------\u001b[0m",
      "\u001b[1;31mValueError\u001b[0m                                Traceback (most recent call last)",
      "\u001b[1;32m~\\AppData\\Local\\Temp/ipykernel_10068/345302685.py\u001b[0m in \u001b[0;36m<module>\u001b[1;34m\u001b[0m\n\u001b[0;32m      1\u001b[0m \u001b[0mf\u001b[0m \u001b[1;33m=\u001b[0m \u001b[0mopen\u001b[0m\u001b[1;33m(\u001b[0m\u001b[1;34mr\"C:\\Users\\Ripan\\Desktop\\accuXGB_PM.txt\"\u001b[0m\u001b[1;33m,\u001b[0m\u001b[1;34m\"a+\"\u001b[0m\u001b[1;33m)\u001b[0m\u001b[1;33m\u001b[0m\u001b[1;33m\u001b[0m\u001b[0m\n\u001b[1;32m----> 2\u001b[1;33m \u001b[0macc\u001b[0m\u001b[1;33m=\u001b[0m\u001b[0mstr\u001b[0m\u001b[1;33m(\u001b[0m\u001b[0mformat\u001b[0m\u001b[1;33m(\u001b[0m\u001b[0macc\u001b[0m\u001b[1;33m,\u001b[0m \u001b[1;34m'.4f'\u001b[0m\u001b[1;33m)\u001b[0m\u001b[1;33m)\u001b[0m\u001b[1;33m\u001b[0m\u001b[1;33m\u001b[0m\u001b[0m\n\u001b[0m\u001b[0;32m      3\u001b[0m \u001b[0macc\u001b[0m\u001b[1;33m=\u001b[0m\u001b[0macc\u001b[0m\u001b[1;33m+\u001b[0m\u001b[1;34m'\\n'\u001b[0m\u001b[1;33m\u001b[0m\u001b[1;33m\u001b[0m\u001b[0m\n\u001b[0;32m      4\u001b[0m \u001b[0mf\u001b[0m\u001b[1;33m.\u001b[0m\u001b[0mwritelines\u001b[0m\u001b[1;33m(\u001b[0m\u001b[0macc\u001b[0m\u001b[1;33m)\u001b[0m\u001b[1;33m\u001b[0m\u001b[1;33m\u001b[0m\u001b[0m\n\u001b[0;32m      5\u001b[0m \u001b[0mf\u001b[0m\u001b[1;33m.\u001b[0m\u001b[0mclose\u001b[0m\u001b[1;33m(\u001b[0m\u001b[1;33m)\u001b[0m\u001b[1;33m\u001b[0m\u001b[1;33m\u001b[0m\u001b[0m\n",
      "\u001b[1;31mValueError\u001b[0m: Unknown format code 'f' for object of type 'str'"
     ]
    }
   ],
   "source": [
    "f = open(r\"C:\\Users\\Ripan\\Desktop\\accuXGB_PM.txt\",\"a+\")\n",
    "acc=str(format(acc, '.4f'))\n",
    "acc=acc+'\\n'\n",
    "f.writelines(acc)\n",
    "f.close()"
   ]
  },
  {
   "cell_type": "code",
   "execution_count": null,
   "id": "15ae6859",
   "metadata": {},
   "outputs": [],
   "source": []
  }
 ],
 "metadata": {
  "kernelspec": {
   "display_name": "Python 3 (ipykernel)",
   "language": "python",
   "name": "python3"
  },
  "language_info": {
   "codemirror_mode": {
    "name": "ipython",
    "version": 3
   },
   "file_extension": ".py",
   "mimetype": "text/x-python",
   "name": "python",
   "nbconvert_exporter": "python",
   "pygments_lexer": "ipython3",
   "version": "3.9.7"
  }
 },
 "nbformat": 4,
 "nbformat_minor": 5
}
