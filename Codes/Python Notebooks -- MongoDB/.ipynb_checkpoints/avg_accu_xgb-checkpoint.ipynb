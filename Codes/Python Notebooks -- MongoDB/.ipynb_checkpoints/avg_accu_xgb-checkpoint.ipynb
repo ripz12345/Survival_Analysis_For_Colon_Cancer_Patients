{
 "cells": [
  {
   "cell_type": "code",
   "execution_count": 1,
   "id": "c91b4e15",
   "metadata": {},
   "outputs": [],
   "source": [
    "fXGB = open(r\"C:\\Users\\Ripan\\Desktop\\accuXGB_PM.txt\",\"r\")"
   ]
  },
  {
   "cell_type": "code",
   "execution_count": 2,
   "id": "2bd724fe",
   "metadata": {},
   "outputs": [
    {
     "name": "stdout",
     "output_type": "stream",
     "text": [
      "[0.9551, 0.9551, 0.9242, 0.9326, 0.9326, 0.9326, 0.9438, 0.9551, 0.9494, 0.9438, 0.9438, 0.9382, 0.9213, 0.9494, 0.9382, 0.9326, 0.9354, 0.9242, 0.941, 0.927, 0.9382, 0.9298, 0.9298, 0.927, 0.9298, 0.941, 0.9073, 0.9354, 0.9354, 0.941, 0.9494, 0.9522, 0.9045, 0.9326, 0.9382, 0.9354, 0.9438, 0.9494, 0.927, 0.9438, 0.941, 0.9438, 0.9298, 0.9326, 0.9326, 0.9382, 0.9438, 0.9298, 0.9438, 0.9382, 0.9551, 0.9185, 0.9466, 0.9354, 0.9298, 0.9522, 0.9382, 0.9354, 0.927, 0.9494, 0.9551, 0.9522, 0.941, 0.927, 0.9663, 0.9466, 0.9213, 0.9438, 0.9382, 0.9382, 0.9298, 0.9663, 0.9354, 0.9213, 0.9242, 0.9382, 0.9579, 0.9522, 0.9354, 0.9466, 0.9298, 0.9466, 0.9354, 0.9494, 0.9354, 0.927, 0.9354, 0.9354, 0.9494, 0.9185, 0.9326, 0.9213, 0.9522, 0.9494, 0.9438, 0.941, 0.9326, 0.9326, 0.9607, 0.9551]\n",
      "avgXGB =  0.9385\n"
     ]
    }
   ],
   "source": [
    "Lines = fXGB.readlines()\n",
    "arrXGB=[]\n",
    "count = 0\n",
    "# Strips the newline character\n",
    "for line in Lines:\n",
    "  count += 1\n",
    "  arrXGB.append(float(line.strip()))\n",
    "print(arrXGB)\n",
    "sumXGB = 0\n",
    "for i in range(len(arrXGB)):\n",
    "  sumXGB += arrXGB[i]\n",
    "avgXGB = sumXGB/len(arrXGB)\n",
    "avgXGB = format(avgXGB, '.4f')\n",
    "print(\"avgXGB = \",avgXGB)"
   ]
  },
  {
   "cell_type": "code",
   "execution_count": 3,
   "id": "e655287e",
   "metadata": {},
   "outputs": [
    {
     "data": {
      "text/plain": [
       "100"
      ]
     },
     "execution_count": 3,
     "metadata": {},
     "output_type": "execute_result"
    }
   ],
   "source": [
    "len(arrXGB)"
   ]
  },
  {
   "cell_type": "code",
   "execution_count": null,
   "id": "d2bde586",
   "metadata": {},
   "outputs": [],
   "source": []
  }
 ],
 "metadata": {
  "kernelspec": {
   "display_name": "Python 3 (ipykernel)",
   "language": "python",
   "name": "python3"
  },
  "language_info": {
   "codemirror_mode": {
    "name": "ipython",
    "version": 3
   },
   "file_extension": ".py",
   "mimetype": "text/x-python",
   "name": "python",
   "nbconvert_exporter": "python",
   "pygments_lexer": "ipython3",
   "version": "3.9.7"
  }
 },
 "nbformat": 4,
 "nbformat_minor": 5
}
